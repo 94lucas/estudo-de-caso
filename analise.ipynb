{
 "cells": [
  {
   "cell_type": "markdown",
   "id": "b60ee47b",
   "metadata": {},
   "source": [
    "- ⁠Entendimento do negócio\n",
    "- ⁠Compreensão dos dados\n",
    "- ⁠Tratamento e Limpeza dos dados\n",
    "- ⁠Analise extrair informações relevantes pra conseguir responder perguntas"
   ]
  },
  {
   "cell_type": "code",
   "execution_count": 105,
   "id": "11328572",
   "metadata": {},
   "outputs": [],
   "source": [
    "import pandas as pd\n",
    "import numpy as np\n",
    "from datetime import datetime\n",
    "import warnings\n",
    "warnings.filterwarnings(\"ignore\")"
   ]
  },
  {
   "cell_type": "code",
   "execution_count": 106,
   "id": "f1dc6dcb",
   "metadata": {},
   "outputs": [],
   "source": [
    "dados = pd.read_csv('/Users/lucas/pos-tech/estudo de caso/estudo-de-caso/dados/Customer_support_data.csv')"
   ]
  },
  {
   "cell_type": "markdown",
   "id": "d61146bf",
   "metadata": {},
   "source": [
    "1. Identificar os principais canais de atendimento utilizados pelos Clientes\n",
    "2. Avaliar o desempenho dos analistas de suporte.\n",
    "3. Analisar o tempo de resposta e resolução dos tickets.\n",
    "4. Identificar os principais motivos de satisfação e insatisfação dos clientes"
   ]
  },
  {
   "cell_type": "code",
   "execution_count": 107,
   "id": "da1dc97f",
   "metadata": {},
   "outputs": [],
   "source": [
    "#Channel_name, category, Issue_reported at, Issue_responded, Customer_City, Product_category, Agent_name, Agent Shift,\n",
    "#CSAT Score\n",
    "\n",
    " \n",
    "dados_clean = dados[['channel_name', 'category', 'Issue_reported at', 'issue_responded', 'Customer_City', 'Product_category', 'Agent_name', 'Agent Shift', 'CSAT Score']]\n"
   ]
  },
  {
   "cell_type": "code",
   "execution_count": 108,
   "id": "ca74aa8b",
   "metadata": {},
   "outputs": [
    {
     "data": {
      "application/vnd.microsoft.datawrangler.viewer.v0+json": {
       "columns": [
        {
         "name": "index",
         "rawType": "int64",
         "type": "integer"
        },
        {
         "name": "channel_name",
         "rawType": "object",
         "type": "string"
        },
        {
         "name": "category",
         "rawType": "object",
         "type": "string"
        },
        {
         "name": "issue_reported",
         "rawType": "object",
         "type": "string"
        },
        {
         "name": "issue_responded",
         "rawType": "object",
         "type": "string"
        },
        {
         "name": "custumer_city",
         "rawType": "object",
         "type": "unknown"
        },
        {
         "name": "product_category",
         "rawType": "object",
         "type": "unknown"
        },
        {
         "name": "agent_name",
         "rawType": "object",
         "type": "string"
        },
        {
         "name": "agent_shift",
         "rawType": "object",
         "type": "string"
        },
        {
         "name": "csat",
         "rawType": "int64",
         "type": "integer"
        }
       ],
       "conversionMethod": "pd.DataFrame",
       "ref": "0872108d-1af6-4c39-a53f-db9ca8140a42",
       "rows": [
        [
         "0",
         "Outcall",
         "Product Queries",
         "01/08/2023 11:13",
         "01/08/2023 11:47",
         null,
         null,
         "Richard Buchanan",
         "Morning",
         "5"
        ],
        [
         "1",
         "Outcall",
         "Product Queries",
         "01/08/2023 12:52",
         "01/08/2023 12:54",
         null,
         null,
         "Vicki Collins",
         "Morning",
         "5"
        ],
        [
         "2",
         "Inbound",
         "Order Related",
         "01/08/2023 20:16",
         "01/08/2023 20:38",
         null,
         null,
         "Duane Norman",
         "Evening",
         "5"
        ],
        [
         "3",
         "Inbound",
         "Returns",
         "01/08/2023 20:56",
         "01/08/2023 21:16",
         null,
         null,
         "Patrick Flores",
         "Evening",
         "5"
        ],
        [
         "4",
         "Inbound",
         "Cancellation",
         "01/08/2023 10:30",
         "01/08/2023 10:32",
         null,
         null,
         "Christopher Sanchez",
         "Morning",
         "5"
        ]
       ],
       "shape": {
        "columns": 9,
        "rows": 5
       }
      },
      "text/html": [
       "<div>\n",
       "<style scoped>\n",
       "    .dataframe tbody tr th:only-of-type {\n",
       "        vertical-align: middle;\n",
       "    }\n",
       "\n",
       "    .dataframe tbody tr th {\n",
       "        vertical-align: top;\n",
       "    }\n",
       "\n",
       "    .dataframe thead th {\n",
       "        text-align: right;\n",
       "    }\n",
       "</style>\n",
       "<table border=\"1\" class=\"dataframe\">\n",
       "  <thead>\n",
       "    <tr style=\"text-align: right;\">\n",
       "      <th></th>\n",
       "      <th>channel_name</th>\n",
       "      <th>category</th>\n",
       "      <th>issue_reported</th>\n",
       "      <th>issue_responded</th>\n",
       "      <th>custumer_city</th>\n",
       "      <th>product_category</th>\n",
       "      <th>agent_name</th>\n",
       "      <th>agent_shift</th>\n",
       "      <th>csat</th>\n",
       "    </tr>\n",
       "  </thead>\n",
       "  <tbody>\n",
       "    <tr>\n",
       "      <th>0</th>\n",
       "      <td>Outcall</td>\n",
       "      <td>Product Queries</td>\n",
       "      <td>01/08/2023 11:13</td>\n",
       "      <td>01/08/2023 11:47</td>\n",
       "      <td>NaN</td>\n",
       "      <td>NaN</td>\n",
       "      <td>Richard Buchanan</td>\n",
       "      <td>Morning</td>\n",
       "      <td>5</td>\n",
       "    </tr>\n",
       "    <tr>\n",
       "      <th>1</th>\n",
       "      <td>Outcall</td>\n",
       "      <td>Product Queries</td>\n",
       "      <td>01/08/2023 12:52</td>\n",
       "      <td>01/08/2023 12:54</td>\n",
       "      <td>NaN</td>\n",
       "      <td>NaN</td>\n",
       "      <td>Vicki Collins</td>\n",
       "      <td>Morning</td>\n",
       "      <td>5</td>\n",
       "    </tr>\n",
       "    <tr>\n",
       "      <th>2</th>\n",
       "      <td>Inbound</td>\n",
       "      <td>Order Related</td>\n",
       "      <td>01/08/2023 20:16</td>\n",
       "      <td>01/08/2023 20:38</td>\n",
       "      <td>NaN</td>\n",
       "      <td>NaN</td>\n",
       "      <td>Duane Norman</td>\n",
       "      <td>Evening</td>\n",
       "      <td>5</td>\n",
       "    </tr>\n",
       "    <tr>\n",
       "      <th>3</th>\n",
       "      <td>Inbound</td>\n",
       "      <td>Returns</td>\n",
       "      <td>01/08/2023 20:56</td>\n",
       "      <td>01/08/2023 21:16</td>\n",
       "      <td>NaN</td>\n",
       "      <td>NaN</td>\n",
       "      <td>Patrick Flores</td>\n",
       "      <td>Evening</td>\n",
       "      <td>5</td>\n",
       "    </tr>\n",
       "    <tr>\n",
       "      <th>4</th>\n",
       "      <td>Inbound</td>\n",
       "      <td>Cancellation</td>\n",
       "      <td>01/08/2023 10:30</td>\n",
       "      <td>01/08/2023 10:32</td>\n",
       "      <td>NaN</td>\n",
       "      <td>NaN</td>\n",
       "      <td>Christopher Sanchez</td>\n",
       "      <td>Morning</td>\n",
       "      <td>5</td>\n",
       "    </tr>\n",
       "  </tbody>\n",
       "</table>\n",
       "</div>"
      ],
      "text/plain": [
       "  channel_name         category    issue_reported   issue_responded  \\\n",
       "0      Outcall  Product Queries  01/08/2023 11:13  01/08/2023 11:47   \n",
       "1      Outcall  Product Queries  01/08/2023 12:52  01/08/2023 12:54   \n",
       "2      Inbound    Order Related  01/08/2023 20:16  01/08/2023 20:38   \n",
       "3      Inbound          Returns  01/08/2023 20:56  01/08/2023 21:16   \n",
       "4      Inbound     Cancellation  01/08/2023 10:30  01/08/2023 10:32   \n",
       "\n",
       "  custumer_city product_category           agent_name agent_shift  csat  \n",
       "0           NaN              NaN     Richard Buchanan     Morning     5  \n",
       "1           NaN              NaN        Vicki Collins     Morning     5  \n",
       "2           NaN              NaN         Duane Norman     Evening     5  \n",
       "3           NaN              NaN       Patrick Flores     Evening     5  \n",
       "4           NaN              NaN  Christopher Sanchez     Morning     5  "
      ]
     },
     "execution_count": 108,
     "metadata": {},
     "output_type": "execute_result"
    }
   ],
   "source": [
    "columns = ['channel_name','category','issue_reported','issue_responded','custumer_city','product_category','agent_name', 'agent_shift','csat']\n",
    "dados_clean.columns = columns\n",
    "dados_clean.head()"
   ]
  },
  {
   "cell_type": "code",
   "execution_count": 109,
   "id": "a8dd472d",
   "metadata": {},
   "outputs": [
    {
     "name": "stdout",
     "output_type": "stream",
     "text": [
      "<class 'pandas.core.frame.DataFrame'>\n",
      "RangeIndex: 85907 entries, 0 to 85906\n",
      "Data columns (total 9 columns):\n",
      " #   Column            Non-Null Count  Dtype \n",
      "---  ------            --------------  ----- \n",
      " 0   channel_name      85907 non-null  object\n",
      " 1   category          85907 non-null  object\n",
      " 2   issue_reported    85907 non-null  object\n",
      " 3   issue_responded   85907 non-null  object\n",
      " 4   custumer_city     17079 non-null  object\n",
      " 5   product_category  17196 non-null  object\n",
      " 6   agent_name        85907 non-null  object\n",
      " 7   agent_shift       85907 non-null  object\n",
      " 8   csat              85907 non-null  int64 \n",
      "dtypes: int64(1), object(8)\n",
      "memory usage: 5.9+ MB\n"
     ]
    }
   ],
   "source": [
    "dados_clean.info()"
   ]
  },
  {
   "cell_type": "code",
   "execution_count": 110,
   "id": "4e764dd6",
   "metadata": {},
   "outputs": [],
   "source": [
    "dados_clean.drop(columns=['custumer_city', 'product_category'], inplace=True)"
   ]
  },
  {
   "cell_type": "code",
   "execution_count": 111,
   "id": "1430c326",
   "metadata": {},
   "outputs": [
    {
     "data": {
      "application/vnd.microsoft.datawrangler.viewer.v0+json": {
       "columns": [
        {
         "name": "index",
         "rawType": "int64",
         "type": "integer"
        },
        {
         "name": "channel_name",
         "rawType": "object",
         "type": "string"
        },
        {
         "name": "category",
         "rawType": "object",
         "type": "string"
        },
        {
         "name": "issue_reported",
         "rawType": "object",
         "type": "string"
        },
        {
         "name": "issue_responded",
         "rawType": "object",
         "type": "string"
        },
        {
         "name": "agent_name",
         "rawType": "object",
         "type": "string"
        },
        {
         "name": "agent_shift",
         "rawType": "object",
         "type": "string"
        },
        {
         "name": "csat",
         "rawType": "int64",
         "type": "integer"
        }
       ],
       "conversionMethod": "pd.DataFrame",
       "ref": "98734b54-21da-4b0b-9760-a07eb15e2b93",
       "rows": [
        [
         "0",
         "Outcall",
         "Product Queries",
         "01/08/2023 11:13",
         "01/08/2023 11:47",
         "Richard Buchanan",
         "Morning",
         "5"
        ],
        [
         "1",
         "Outcall",
         "Product Queries",
         "01/08/2023 12:52",
         "01/08/2023 12:54",
         "Vicki Collins",
         "Morning",
         "5"
        ],
        [
         "2",
         "Inbound",
         "Order Related",
         "01/08/2023 20:16",
         "01/08/2023 20:38",
         "Duane Norman",
         "Evening",
         "5"
        ],
        [
         "3",
         "Inbound",
         "Returns",
         "01/08/2023 20:56",
         "01/08/2023 21:16",
         "Patrick Flores",
         "Evening",
         "5"
        ],
        [
         "4",
         "Inbound",
         "Cancellation",
         "01/08/2023 10:30",
         "01/08/2023 10:32",
         "Christopher Sanchez",
         "Morning",
         "5"
        ]
       ],
       "shape": {
        "columns": 7,
        "rows": 5
       }
      },
      "text/html": [
       "<div>\n",
       "<style scoped>\n",
       "    .dataframe tbody tr th:only-of-type {\n",
       "        vertical-align: middle;\n",
       "    }\n",
       "\n",
       "    .dataframe tbody tr th {\n",
       "        vertical-align: top;\n",
       "    }\n",
       "\n",
       "    .dataframe thead th {\n",
       "        text-align: right;\n",
       "    }\n",
       "</style>\n",
       "<table border=\"1\" class=\"dataframe\">\n",
       "  <thead>\n",
       "    <tr style=\"text-align: right;\">\n",
       "      <th></th>\n",
       "      <th>channel_name</th>\n",
       "      <th>category</th>\n",
       "      <th>issue_reported</th>\n",
       "      <th>issue_responded</th>\n",
       "      <th>agent_name</th>\n",
       "      <th>agent_shift</th>\n",
       "      <th>csat</th>\n",
       "    </tr>\n",
       "  </thead>\n",
       "  <tbody>\n",
       "    <tr>\n",
       "      <th>0</th>\n",
       "      <td>Outcall</td>\n",
       "      <td>Product Queries</td>\n",
       "      <td>01/08/2023 11:13</td>\n",
       "      <td>01/08/2023 11:47</td>\n",
       "      <td>Richard Buchanan</td>\n",
       "      <td>Morning</td>\n",
       "      <td>5</td>\n",
       "    </tr>\n",
       "    <tr>\n",
       "      <th>1</th>\n",
       "      <td>Outcall</td>\n",
       "      <td>Product Queries</td>\n",
       "      <td>01/08/2023 12:52</td>\n",
       "      <td>01/08/2023 12:54</td>\n",
       "      <td>Vicki Collins</td>\n",
       "      <td>Morning</td>\n",
       "      <td>5</td>\n",
       "    </tr>\n",
       "    <tr>\n",
       "      <th>2</th>\n",
       "      <td>Inbound</td>\n",
       "      <td>Order Related</td>\n",
       "      <td>01/08/2023 20:16</td>\n",
       "      <td>01/08/2023 20:38</td>\n",
       "      <td>Duane Norman</td>\n",
       "      <td>Evening</td>\n",
       "      <td>5</td>\n",
       "    </tr>\n",
       "    <tr>\n",
       "      <th>3</th>\n",
       "      <td>Inbound</td>\n",
       "      <td>Returns</td>\n",
       "      <td>01/08/2023 20:56</td>\n",
       "      <td>01/08/2023 21:16</td>\n",
       "      <td>Patrick Flores</td>\n",
       "      <td>Evening</td>\n",
       "      <td>5</td>\n",
       "    </tr>\n",
       "    <tr>\n",
       "      <th>4</th>\n",
       "      <td>Inbound</td>\n",
       "      <td>Cancellation</td>\n",
       "      <td>01/08/2023 10:30</td>\n",
       "      <td>01/08/2023 10:32</td>\n",
       "      <td>Christopher Sanchez</td>\n",
       "      <td>Morning</td>\n",
       "      <td>5</td>\n",
       "    </tr>\n",
       "  </tbody>\n",
       "</table>\n",
       "</div>"
      ],
      "text/plain": [
       "  channel_name         category    issue_reported   issue_responded  \\\n",
       "0      Outcall  Product Queries  01/08/2023 11:13  01/08/2023 11:47   \n",
       "1      Outcall  Product Queries  01/08/2023 12:52  01/08/2023 12:54   \n",
       "2      Inbound    Order Related  01/08/2023 20:16  01/08/2023 20:38   \n",
       "3      Inbound          Returns  01/08/2023 20:56  01/08/2023 21:16   \n",
       "4      Inbound     Cancellation  01/08/2023 10:30  01/08/2023 10:32   \n",
       "\n",
       "            agent_name agent_shift  csat  \n",
       "0     Richard Buchanan     Morning     5  \n",
       "1        Vicki Collins     Morning     5  \n",
       "2         Duane Norman     Evening     5  \n",
       "3       Patrick Flores     Evening     5  \n",
       "4  Christopher Sanchez     Morning     5  "
      ]
     },
     "execution_count": 111,
     "metadata": {},
     "output_type": "execute_result"
    }
   ],
   "source": [
    "dados_clean.head()"
   ]
  },
  {
   "cell_type": "code",
   "execution_count": 112,
   "id": "025c2bd0",
   "metadata": {},
   "outputs": [],
   "source": [
    "# mudando o tipo das datas em datetime \n",
    "#dados_clean[['issue_reported', 'issue_responded']] = dados_clean[['issue_reported', 'issue_responded']].astype('datetime64[ns]')\n",
    "dados_clean['issue_reported'] = pd.to_datetime(dados_clean['issue_reported'], format='%d/%m/%Y %H:%M')\n",
    "dados_clean['issue_responded'] = pd.to_datetime(dados_clean['issue_responded'], format='%d/%m/%Y %H:%M')"
   ]
  },
  {
   "cell_type": "code",
   "execution_count": 113,
   "id": "ab324068",
   "metadata": {},
   "outputs": [
    {
     "name": "stdout",
     "output_type": "stream",
     "text": [
      "<class 'pandas.core.frame.DataFrame'>\n",
      "RangeIndex: 85907 entries, 0 to 85906\n",
      "Data columns (total 7 columns):\n",
      " #   Column           Non-Null Count  Dtype         \n",
      "---  ------           --------------  -----         \n",
      " 0   channel_name     85907 non-null  object        \n",
      " 1   category         85907 non-null  object        \n",
      " 2   issue_reported   85907 non-null  datetime64[ns]\n",
      " 3   issue_responded  85907 non-null  datetime64[ns]\n",
      " 4   agent_name       85907 non-null  object        \n",
      " 5   agent_shift      85907 non-null  object        \n",
      " 6   csat             85907 non-null  int64         \n",
      "dtypes: datetime64[ns](2), int64(1), object(4)\n",
      "memory usage: 4.6+ MB\n"
     ]
    }
   ],
   "source": [
    "dados_clean.info()"
   ]
  },
  {
   "cell_type": "code",
   "execution_count": 114,
   "id": "f5de9b5d",
   "metadata": {},
   "outputs": [
    {
     "data": {
      "application/vnd.microsoft.datawrangler.viewer.v0+json": {
       "columns": [
        {
         "name": "index",
         "rawType": "int64",
         "type": "integer"
        },
        {
         "name": "channel_name",
         "rawType": "object",
         "type": "string"
        },
        {
         "name": "category",
         "rawType": "object",
         "type": "string"
        },
        {
         "name": "issue_reported",
         "rawType": "datetime64[ns]",
         "type": "datetime"
        },
        {
         "name": "issue_responded",
         "rawType": "datetime64[ns]",
         "type": "datetime"
        },
        {
         "name": "agent_name",
         "rawType": "object",
         "type": "string"
        },
        {
         "name": "agent_shift",
         "rawType": "object",
         "type": "string"
        },
        {
         "name": "csat",
         "rawType": "int64",
         "type": "integer"
        }
       ],
       "conversionMethod": "pd.DataFrame",
       "ref": "022b8a03-d9fc-4087-a2c5-b92d76b75395",
       "rows": [
        [
         "0",
         "Outcall",
         "Product Queries",
         "2023-08-01 11:13:00",
         "2023-08-01 11:47:00",
         "Richard Buchanan",
         "Morning",
         "5"
        ],
        [
         "1",
         "Outcall",
         "Product Queries",
         "2023-08-01 12:52:00",
         "2023-08-01 12:54:00",
         "Vicki Collins",
         "Morning",
         "5"
        ],
        [
         "2",
         "Inbound",
         "Order Related",
         "2023-08-01 20:16:00",
         "2023-08-01 20:38:00",
         "Duane Norman",
         "Evening",
         "5"
        ],
        [
         "3",
         "Inbound",
         "Returns",
         "2023-08-01 20:56:00",
         "2023-08-01 21:16:00",
         "Patrick Flores",
         "Evening",
         "5"
        ],
        [
         "4",
         "Inbound",
         "Cancellation",
         "2023-08-01 10:30:00",
         "2023-08-01 10:32:00",
         "Christopher Sanchez",
         "Morning",
         "5"
        ]
       ],
       "shape": {
        "columns": 7,
        "rows": 5
       }
      },
      "text/html": [
       "<div>\n",
       "<style scoped>\n",
       "    .dataframe tbody tr th:only-of-type {\n",
       "        vertical-align: middle;\n",
       "    }\n",
       "\n",
       "    .dataframe tbody tr th {\n",
       "        vertical-align: top;\n",
       "    }\n",
       "\n",
       "    .dataframe thead th {\n",
       "        text-align: right;\n",
       "    }\n",
       "</style>\n",
       "<table border=\"1\" class=\"dataframe\">\n",
       "  <thead>\n",
       "    <tr style=\"text-align: right;\">\n",
       "      <th></th>\n",
       "      <th>channel_name</th>\n",
       "      <th>category</th>\n",
       "      <th>issue_reported</th>\n",
       "      <th>issue_responded</th>\n",
       "      <th>agent_name</th>\n",
       "      <th>agent_shift</th>\n",
       "      <th>csat</th>\n",
       "    </tr>\n",
       "  </thead>\n",
       "  <tbody>\n",
       "    <tr>\n",
       "      <th>0</th>\n",
       "      <td>Outcall</td>\n",
       "      <td>Product Queries</td>\n",
       "      <td>2023-08-01 11:13:00</td>\n",
       "      <td>2023-08-01 11:47:00</td>\n",
       "      <td>Richard Buchanan</td>\n",
       "      <td>Morning</td>\n",
       "      <td>5</td>\n",
       "    </tr>\n",
       "    <tr>\n",
       "      <th>1</th>\n",
       "      <td>Outcall</td>\n",
       "      <td>Product Queries</td>\n",
       "      <td>2023-08-01 12:52:00</td>\n",
       "      <td>2023-08-01 12:54:00</td>\n",
       "      <td>Vicki Collins</td>\n",
       "      <td>Morning</td>\n",
       "      <td>5</td>\n",
       "    </tr>\n",
       "    <tr>\n",
       "      <th>2</th>\n",
       "      <td>Inbound</td>\n",
       "      <td>Order Related</td>\n",
       "      <td>2023-08-01 20:16:00</td>\n",
       "      <td>2023-08-01 20:38:00</td>\n",
       "      <td>Duane Norman</td>\n",
       "      <td>Evening</td>\n",
       "      <td>5</td>\n",
       "    </tr>\n",
       "    <tr>\n",
       "      <th>3</th>\n",
       "      <td>Inbound</td>\n",
       "      <td>Returns</td>\n",
       "      <td>2023-08-01 20:56:00</td>\n",
       "      <td>2023-08-01 21:16:00</td>\n",
       "      <td>Patrick Flores</td>\n",
       "      <td>Evening</td>\n",
       "      <td>5</td>\n",
       "    </tr>\n",
       "    <tr>\n",
       "      <th>4</th>\n",
       "      <td>Inbound</td>\n",
       "      <td>Cancellation</td>\n",
       "      <td>2023-08-01 10:30:00</td>\n",
       "      <td>2023-08-01 10:32:00</td>\n",
       "      <td>Christopher Sanchez</td>\n",
       "      <td>Morning</td>\n",
       "      <td>5</td>\n",
       "    </tr>\n",
       "  </tbody>\n",
       "</table>\n",
       "</div>"
      ],
      "text/plain": [
       "  channel_name         category      issue_reported     issue_responded  \\\n",
       "0      Outcall  Product Queries 2023-08-01 11:13:00 2023-08-01 11:47:00   \n",
       "1      Outcall  Product Queries 2023-08-01 12:52:00 2023-08-01 12:54:00   \n",
       "2      Inbound    Order Related 2023-08-01 20:16:00 2023-08-01 20:38:00   \n",
       "3      Inbound          Returns 2023-08-01 20:56:00 2023-08-01 21:16:00   \n",
       "4      Inbound     Cancellation 2023-08-01 10:30:00 2023-08-01 10:32:00   \n",
       "\n",
       "            agent_name agent_shift  csat  \n",
       "0     Richard Buchanan     Morning     5  \n",
       "1        Vicki Collins     Morning     5  \n",
       "2         Duane Norman     Evening     5  \n",
       "3       Patrick Flores     Evening     5  \n",
       "4  Christopher Sanchez     Morning     5  "
      ]
     },
     "execution_count": 114,
     "metadata": {},
     "output_type": "execute_result"
    }
   ],
   "source": [
    "dados_clean.head()"
   ]
  },
  {
   "cell_type": "markdown",
   "id": "6804aa62",
   "metadata": {},
   "source": [
    "# 1. Identificar os principais canais de atendimento utilizados pelos Clientes\n"
   ]
  },
  {
   "cell_type": "code",
   "execution_count": 115,
   "id": "f2ab4a65",
   "metadata": {},
   "outputs": [
    {
     "data": {
      "text/plain": [
       "channel_name\n",
       "Email       3023\n",
       "Inbound    68142\n",
       "Outcall    14742\n",
       "Name: channel_name, dtype: int64"
      ]
     },
     "execution_count": 115,
     "metadata": {},
     "output_type": "execute_result"
    }
   ],
   "source": [
    "dados_clean['channel_name'].groupby(dados_clean['channel_name']).count()"
   ]
  },
  {
   "cell_type": "markdown",
   "id": "d15477ce",
   "metadata": {},
   "source": [
    "Resposta: Com base nos três atendimentos o que mais recebe atendimento é o Inbound, que seria quando o cliente faz uma ligação direta para o suporte"
   ]
  },
  {
   "cell_type": "markdown",
   "id": "6592b7a2",
   "metadata": {},
   "source": [
    "# 4. Identificar os principais motivos de satisfação e insatisfação dos clientes\n",
    "\n",
    "CSAT:\n",
    "\n",
    "1-3: negativo\n",
    "\n",
    "4-5: positivo"
   ]
  },
  {
   "cell_type": "code",
   "execution_count": 116,
   "id": "281aafe6",
   "metadata": {},
   "outputs": [],
   "source": [
    "dados_clean['avaliacao_numerica'] = dados_clean['csat'].map(lambda x: 0 if x <= 3 else 1)\n"
   ]
  },
  {
   "cell_type": "code",
   "execution_count": 117,
   "id": "8e0ceaa4",
   "metadata": {},
   "outputs": [
    {
     "data": {
      "text/plain": [
       "count    85907.000000\n",
       "mean         0.824566\n",
       "std          0.380340\n",
       "min          0.000000\n",
       "25%          1.000000\n",
       "50%          1.000000\n",
       "75%          1.000000\n",
       "max          1.000000\n",
       "Name: avaliacao_numerica, dtype: float64"
      ]
     },
     "execution_count": 117,
     "metadata": {},
     "output_type": "execute_result"
    }
   ],
   "source": [
    "dados_clean['avaliacao_numerica'].describe()"
   ]
  },
  {
   "cell_type": "code",
   "execution_count": 118,
   "id": "9d3c3c43",
   "metadata": {},
   "outputs": [
    {
     "data": {
      "text/plain": [
       "category\n",
       "Returns               44097\n",
       "Order Related         23215\n",
       "Refund Related         4550\n",
       "Product Queries        3692\n",
       "Shopzilla Related      2792\n",
       "Payments related       2327\n",
       "Feedback               2294\n",
       "Cancellation           2212\n",
       "Offers & Cashback       480\n",
       "Others                   99\n",
       "App/website              84\n",
       "Onboarding related       65\n",
       "Name: avaliacao_numerica, dtype: int64"
      ]
     },
     "execution_count": 118,
     "metadata": {},
     "output_type": "execute_result"
    }
   ],
   "source": [
    "frequencia_avalaicao = dados_clean['avaliacao_numerica'].groupby(dados_clean['category']).count().sort_values(ascending=False) \n",
    "frequencia_avalaicao"
   ]
  },
  {
   "cell_type": "code",
   "execution_count": 119,
   "id": "dacc06a7",
   "metadata": {},
   "outputs": [
    {
     "data": {
      "text/plain": [
       "category\n",
       "App/website           86.90\n",
       "Payments related      85.30\n",
       "Returns               85.24\n",
       "Shopzilla Related     83.99\n",
       "Offers & Cashback     82.92\n",
       "Refund Related        82.33\n",
       "Onboarding related    81.54\n",
       "Feedback              79.86\n",
       "Order Related         78.56\n",
       "Product Queries       76.90\n",
       "Cancellation          75.90\n",
       "Others                59.60\n",
       "Name: avaliacao_numerica, dtype: float64"
      ]
     },
     "execution_count": 119,
     "metadata": {},
     "output_type": "execute_result"
    }
   ],
   "source": [
    "# quais categorias tiveram avaliacao_numerica 1\n",
    "avaliacao_positiva = dados_clean['avaliacao_numerica'].groupby(dados_clean['category']).sum().sort_values(ascending=False)\n",
    "\n",
    "((avaliacao_positiva/frequencia_avalaicao)*100).round(2).sort_values(ascending=False)\n"
   ]
  },
  {
   "cell_type": "code",
   "execution_count": 120,
   "id": "34927479",
   "metadata": {},
   "outputs": [],
   "source": [
    "avaliacao_negativa = dados_clean[['category', 'avaliacao_numerica']].query('avaliacao_numerica == 0').groupby('category').count().sort_values('avaliacao_numerica', ascending=False)"
   ]
  },
  {
   "cell_type": "code",
   "execution_count": 121,
   "id": "68cf9396",
   "metadata": {},
   "outputs": [
    {
     "data": {
      "application/vnd.microsoft.datawrangler.viewer.v0+json": {
       "columns": [
        {
         "name": "category",
         "rawType": "object",
         "type": "string"
        },
        {
         "name": "avaliacao_numerica",
         "rawType": "int64",
         "type": "integer"
        }
       ],
       "conversionMethod": "pd.DataFrame",
       "ref": "75a1694b-1838-4b66-aa01-fab34f80c3d0",
       "rows": [
        [
         "Returns",
         "6507"
        ],
        [
         "Order Related",
         "4978"
        ],
        [
         "Product Queries",
         "853"
        ],
        [
         "Refund Related",
         "804"
        ],
        [
         "Cancellation",
         "533"
        ],
        [
         "Feedback",
         "462"
        ],
        [
         "Shopzilla Related",
         "447"
        ],
        [
         "Payments related",
         "342"
        ],
        [
         "Offers & Cashback",
         "82"
        ],
        [
         "Others",
         "40"
        ],
        [
         "Onboarding related",
         "12"
        ],
        [
         "App/website",
         "11"
        ]
       ],
       "shape": {
        "columns": 1,
        "rows": 12
       }
      },
      "text/html": [
       "<div>\n",
       "<style scoped>\n",
       "    .dataframe tbody tr th:only-of-type {\n",
       "        vertical-align: middle;\n",
       "    }\n",
       "\n",
       "    .dataframe tbody tr th {\n",
       "        vertical-align: top;\n",
       "    }\n",
       "\n",
       "    .dataframe thead th {\n",
       "        text-align: right;\n",
       "    }\n",
       "</style>\n",
       "<table border=\"1\" class=\"dataframe\">\n",
       "  <thead>\n",
       "    <tr style=\"text-align: right;\">\n",
       "      <th></th>\n",
       "      <th>avaliacao_numerica</th>\n",
       "    </tr>\n",
       "    <tr>\n",
       "      <th>category</th>\n",
       "      <th></th>\n",
       "    </tr>\n",
       "  </thead>\n",
       "  <tbody>\n",
       "    <tr>\n",
       "      <th>Returns</th>\n",
       "      <td>6507</td>\n",
       "    </tr>\n",
       "    <tr>\n",
       "      <th>Order Related</th>\n",
       "      <td>4978</td>\n",
       "    </tr>\n",
       "    <tr>\n",
       "      <th>Product Queries</th>\n",
       "      <td>853</td>\n",
       "    </tr>\n",
       "    <tr>\n",
       "      <th>Refund Related</th>\n",
       "      <td>804</td>\n",
       "    </tr>\n",
       "    <tr>\n",
       "      <th>Cancellation</th>\n",
       "      <td>533</td>\n",
       "    </tr>\n",
       "    <tr>\n",
       "      <th>Feedback</th>\n",
       "      <td>462</td>\n",
       "    </tr>\n",
       "    <tr>\n",
       "      <th>Shopzilla Related</th>\n",
       "      <td>447</td>\n",
       "    </tr>\n",
       "    <tr>\n",
       "      <th>Payments related</th>\n",
       "      <td>342</td>\n",
       "    </tr>\n",
       "    <tr>\n",
       "      <th>Offers &amp; Cashback</th>\n",
       "      <td>82</td>\n",
       "    </tr>\n",
       "    <tr>\n",
       "      <th>Others</th>\n",
       "      <td>40</td>\n",
       "    </tr>\n",
       "    <tr>\n",
       "      <th>Onboarding related</th>\n",
       "      <td>12</td>\n",
       "    </tr>\n",
       "    <tr>\n",
       "      <th>App/website</th>\n",
       "      <td>11</td>\n",
       "    </tr>\n",
       "  </tbody>\n",
       "</table>\n",
       "</div>"
      ],
      "text/plain": [
       "                    avaliacao_numerica\n",
       "category                              \n",
       "Returns                           6507\n",
       "Order Related                     4978\n",
       "Product Queries                    853\n",
       "Refund Related                     804\n",
       "Cancellation                       533\n",
       "Feedback                           462\n",
       "Shopzilla Related                  447\n",
       "Payments related                   342\n",
       "Offers & Cashback                   82\n",
       "Others                              40\n",
       "Onboarding related                  12\n",
       "App/website                         11"
      ]
     },
     "execution_count": 121,
     "metadata": {},
     "output_type": "execute_result"
    }
   ],
   "source": [
    "avaliacao_negativa"
   ]
  },
  {
   "cell_type": "code",
   "execution_count": 122,
   "id": "30be2138",
   "metadata": {},
   "outputs": [],
   "source": [
    "avaliacao_negativa['avaliacao_numerica_relativa'] = (avaliacao_negativa['avaliacao_numerica']/frequencia_avalaicao)*100"
   ]
  },
  {
   "cell_type": "code",
   "execution_count": 126,
   "id": "1b7b752d",
   "metadata": {},
   "outputs": [
    {
     "data": {
      "application/vnd.microsoft.datawrangler.viewer.v0+json": {
       "columns": [
        {
         "name": "category",
         "rawType": "object",
         "type": "string"
        },
        {
         "name": "avaliacao_numerica",
         "rawType": "int64",
         "type": "integer"
        },
        {
         "name": "avaliacao_numerica_relativa",
         "rawType": "float64",
         "type": "float"
        }
       ],
       "conversionMethod": "pd.DataFrame",
       "ref": "c10a2795-2fb5-484d-a394-6f06b490a15d",
       "rows": [
        [
         "Others",
         "40",
         "40.4"
        ],
        [
         "Cancellation",
         "533",
         "24.1"
        ],
        [
         "Product Queries",
         "853",
         "23.1"
        ],
        [
         "Order Related",
         "4978",
         "21.44"
        ],
        [
         "Feedback",
         "462",
         "20.14"
        ],
        [
         "Onboarding related",
         "12",
         "18.46"
        ],
        [
         "Refund Related",
         "804",
         "17.67"
        ],
        [
         "Offers & Cashback",
         "82",
         "17.08"
        ],
        [
         "Shopzilla Related",
         "447",
         "16.01"
        ],
        [
         "Returns",
         "6507",
         "14.76"
        ],
        [
         "Payments related",
         "342",
         "14.7"
        ],
        [
         "App/website",
         "11",
         "13.1"
        ]
       ],
       "shape": {
        "columns": 2,
        "rows": 12
       }
      },
      "text/html": [
       "<div>\n",
       "<style scoped>\n",
       "    .dataframe tbody tr th:only-of-type {\n",
       "        vertical-align: middle;\n",
       "    }\n",
       "\n",
       "    .dataframe tbody tr th {\n",
       "        vertical-align: top;\n",
       "    }\n",
       "\n",
       "    .dataframe thead th {\n",
       "        text-align: right;\n",
       "    }\n",
       "</style>\n",
       "<table border=\"1\" class=\"dataframe\">\n",
       "  <thead>\n",
       "    <tr style=\"text-align: right;\">\n",
       "      <th></th>\n",
       "      <th>avaliacao_numerica</th>\n",
       "      <th>avaliacao_numerica_relativa</th>\n",
       "    </tr>\n",
       "    <tr>\n",
       "      <th>category</th>\n",
       "      <th></th>\n",
       "      <th></th>\n",
       "    </tr>\n",
       "  </thead>\n",
       "  <tbody>\n",
       "    <tr>\n",
       "      <th>Others</th>\n",
       "      <td>40</td>\n",
       "      <td>40.40</td>\n",
       "    </tr>\n",
       "    <tr>\n",
       "      <th>Cancellation</th>\n",
       "      <td>533</td>\n",
       "      <td>24.10</td>\n",
       "    </tr>\n",
       "    <tr>\n",
       "      <th>Product Queries</th>\n",
       "      <td>853</td>\n",
       "      <td>23.10</td>\n",
       "    </tr>\n",
       "    <tr>\n",
       "      <th>Order Related</th>\n",
       "      <td>4978</td>\n",
       "      <td>21.44</td>\n",
       "    </tr>\n",
       "    <tr>\n",
       "      <th>Feedback</th>\n",
       "      <td>462</td>\n",
       "      <td>20.14</td>\n",
       "    </tr>\n",
       "    <tr>\n",
       "      <th>Onboarding related</th>\n",
       "      <td>12</td>\n",
       "      <td>18.46</td>\n",
       "    </tr>\n",
       "    <tr>\n",
       "      <th>Refund Related</th>\n",
       "      <td>804</td>\n",
       "      <td>17.67</td>\n",
       "    </tr>\n",
       "    <tr>\n",
       "      <th>Offers &amp; Cashback</th>\n",
       "      <td>82</td>\n",
       "      <td>17.08</td>\n",
       "    </tr>\n",
       "    <tr>\n",
       "      <th>Shopzilla Related</th>\n",
       "      <td>447</td>\n",
       "      <td>16.01</td>\n",
       "    </tr>\n",
       "    <tr>\n",
       "      <th>Returns</th>\n",
       "      <td>6507</td>\n",
       "      <td>14.76</td>\n",
       "    </tr>\n",
       "    <tr>\n",
       "      <th>Payments related</th>\n",
       "      <td>342</td>\n",
       "      <td>14.70</td>\n",
       "    </tr>\n",
       "    <tr>\n",
       "      <th>App/website</th>\n",
       "      <td>11</td>\n",
       "      <td>13.10</td>\n",
       "    </tr>\n",
       "  </tbody>\n",
       "</table>\n",
       "</div>"
      ],
      "text/plain": [
       "                    avaliacao_numerica  avaliacao_numerica_relativa\n",
       "category                                                           \n",
       "Others                              40                        40.40\n",
       "Cancellation                       533                        24.10\n",
       "Product Queries                    853                        23.10\n",
       "Order Related                     4978                        21.44\n",
       "Feedback                           462                        20.14\n",
       "Onboarding related                  12                        18.46\n",
       "Refund Related                     804                        17.67\n",
       "Offers & Cashback                   82                        17.08\n",
       "Shopzilla Related                  447                        16.01\n",
       "Returns                           6507                        14.76\n",
       "Payments related                   342                        14.70\n",
       "App/website                         11                        13.10"
      ]
     },
     "execution_count": 126,
     "metadata": {},
     "output_type": "execute_result"
    }
   ],
   "source": [
    "avaliacao_negativa.sort_values('avaliacao_numerica_relativa', ascending=False).round(2)"
   ]
  },
  {
   "cell_type": "code",
   "execution_count": null,
   "id": "756a8c4d",
   "metadata": {},
   "outputs": [],
   "source": [
    "# Os principais motivos de satisfação dos clientes são: App/website, payments related e retorns\n",
    "# Os principais motivos de insatisfação dos clientes são: Cacellation, product queries e Order Related "
   ]
  },
  {
   "cell_type": "markdown",
   "id": "2f53255a",
   "metadata": {},
   "source": [
    "# 3. Analisar o tempo de resposta e resolução dos tickets.\n"
   ]
  },
  {
   "cell_type": "code",
   "execution_count": null,
   "id": "09500227",
   "metadata": {},
   "outputs": [],
   "source": []
  }
 ],
 "metadata": {
  "kernelspec": {
   "display_name": "Python 3",
   "language": "python",
   "name": "python3"
  },
  "language_info": {
   "codemirror_mode": {
    "name": "ipython",
    "version": 3
   },
   "file_extension": ".py",
   "mimetype": "text/x-python",
   "name": "python",
   "nbconvert_exporter": "python",
   "pygments_lexer": "ipython3",
   "version": "3.11.0"
  }
 },
 "nbformat": 4,
 "nbformat_minor": 5
}
